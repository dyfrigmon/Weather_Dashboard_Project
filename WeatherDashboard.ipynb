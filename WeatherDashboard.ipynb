{
 "cells": [
  {
   "cell_type": "code",
   "execution_count": 1,
   "metadata": {
    "collapsed": true
   },
   "outputs": [],
   "source": [
    "#!/usr/bin/env python\n",
    "# coding=utf-8"
   ]
  },
  {
   "cell_type": "markdown",
   "metadata": {},
   "source": [
    "# Swansea and New York weather using plotly and wunderground APIs"
   ]
  },
  {
   "cell_type": "markdown",
   "metadata": {},
   "source": [
    "This not book was inspired by this tutorial http://moderndata.plot.ly/update-plotly-charts-with-cron-jobs-and-python/"
   ]
  },
  {
   "cell_type": "code",
   "execution_count": 2,
   "metadata": {
    "collapsed": true
   },
   "outputs": [],
   "source": [
    "userName = 'XXXX'\n",
    "apiKeyWunderground = 'XXXX'\n",
    "apiKeyPlotly = 'XXXX'"
   ]
  },
  {
   "cell_type": "code",
   "execution_count": 3,
   "metadata": {
    "collapsed": false
   },
   "outputs": [],
   "source": [
    "import urllib2\n",
    "import json\n",
    "import plotly\n",
    "import datetime\n",
    "import plotly.plotly as py\n",
    "from plotly.graph_objs import *\n",
    "py.sign_in(userName, apiKeyPlotly)"
   ]
  },
  {
   "cell_type": "code",
   "execution_count": 4,
   "metadata": {
    "collapsed": true
   },
   "outputs": [],
   "source": [
    "NY_lookup_url = 'http://api.wunderground.com/api/' + apiKeyWunderground + '/geolookup/conditions/q/NY/New_York.json'\n",
    "Swan_lookup_url = 'http://api.wunderground.com/api/' + apiKeyWunderground + '/conditions/q/UK/Swansea.json'"
   ]
  },
  {
   "cell_type": "markdown",
   "metadata": {},
   "source": [
    "## Retrieve current temperature in Montréal and San Francisco"
   ]
  },
  {
   "cell_type": "code",
   "execution_count": 5,
   "metadata": {
    "collapsed": false
   },
   "outputs": [
    {
     "name": "stdout",
     "output_type": "stream",
     "text": [
      "Current temperature in Swansea is: 12.2 C, 54.0 F\n",
      "Current temperature in New York is: 16.1 C, 61.0 F\n"
     ]
    }
   ],
   "source": [
    "urls = { 'Swansea': Swan_lookup_url, 'New York': NY_lookup_url }\n",
    "temps = { 'Swansea': [], 'New York': [] }\n",
    "\n",
    "for city in temps.keys():\n",
    "    f = urllib2.urlopen(urls[city])\n",
    "    json_string = f.read()\n",
    "    parsed_json = json.loads(json_string)\n",
    "    temps[city].append( parsed_json['current_observation']['temp_c'] )\n",
    "    temps[city].append( parsed_json['current_observation']['temp_f'] )\n",
    "    print \"Current temperature in %s is: %s C, %s F\" % (city, temps[city][0], temps[city][1] )\n",
    "    f.close()"
   ]
  },
  {
   "cell_type": "markdown",
   "metadata": {},
   "source": [
    "## Graph temperature data with Plotly Python client"
   ]
  },
  {
   "cell_type": "markdown",
   "metadata": {},
   "source": [
    "Use plotly's own online GUI to create layout."
   ]
  },
  {
   "cell_type": "code",
   "execution_count": 6,
   "metadata": {
    "collapsed": true
   },
   "outputs": [],
   "source": [
    "layout = Layout(\n",
    "    title='Current temperature in Swansea (UK) and New York (NY, USA)',\n",
    "    titlefont=Font(\n",
    "        family='\"Open sans\", verdana, arial, sans-serif',\n",
    "        size=17,\n",
    "        color='#444'\n",
    "    ),\n",
    "    font=Font(\n",
    "        family='\"Open sans\", verdana, arial, sans-serif',\n",
    "        size=12,\n",
    "        color='#444'\n",
    "    ),\n",
    "    showlegend=True,\n",
    "    autosize=True,\n",
    "    width=803,\n",
    "    height=566,\n",
    "    xaxis=XAxis(\n",
    "        title='Click to enter X axis title',\n",
    "        titlefont=Font(\n",
    "            family='\"Open sans\", verdana, arial, sans-serif',\n",
    "            size=14,\n",
    "            color='#444'\n",
    "        ),\n",
    "        range=[1418632334984.89, 1418632334986.89],\n",
    "        domain=[0, 1],\n",
    "        type='date',\n",
    "        rangemode='normal',\n",
    "        autorange=True,\n",
    "        showgrid=False,\n",
    "        zeroline=False,\n",
    "        showline=True,\n",
    "        autotick=True,\n",
    "        nticks=0,\n",
    "        ticks='inside',\n",
    "        showticklabels=True,\n",
    "        tick0=0,\n",
    "        dtick=1,\n",
    "        ticklen=5,\n",
    "        tickwidth=1,\n",
    "        tickcolor='#444',\n",
    "        tickangle='auto',\n",
    "        tickfont=Font(\n",
    "            family='\"Open sans\", verdana, arial, sans-serif',\n",
    "            size=12,\n",
    "            color='#444'\n",
    "        ),\n",
    "        mirror='allticks',\n",
    "        linecolor='rgb(34,34,34)',\n",
    "        linewidth=1,\n",
    "        anchor='y',\n",
    "        side='bottom'\n",
    "    ),\n",
    "    yaxis=YAxis(\n",
    "        title='Temperature (degrees)',\n",
    "        titlefont=Font(\n",
    "            family='\"Open sans\", verdana, arial, sans-serif',\n",
    "            size=14,\n",
    "            color='#444'\n",
    "        ),\n",
    "        range=[-5.968375815056313, 57.068375815056314],\n",
    "        domain=[0, 1],\n",
    "        type='linear',\n",
    "        rangemode='normal',\n",
    "        autorange=True,\n",
    "        showgrid=False,\n",
    "        zeroline=False,\n",
    "        showline=True,\n",
    "        autotick=True,\n",
    "        nticks=0,\n",
    "        ticks='inside',\n",
    "        showticklabels=True,\n",
    "        tick0=0,\n",
    "        dtick=1,\n",
    "        ticklen=5,\n",
    "        tickwidth=1,\n",
    "        tickcolor='#444',\n",
    "        tickangle='auto',\n",
    "        tickfont=Font(\n",
    "            family='\"Open sans\", verdana, arial, sans-serif',\n",
    "            size=12,\n",
    "            color='#444'\n",
    "        ),\n",
    "        exponentformat='B',\n",
    "        showexponent='all',\n",
    "        mirror='allticks',\n",
    "        linecolor='rgb(34,34,34)',\n",
    "        linewidth=1,\n",
    "        anchor='x',\n",
    "        side='left'\n",
    "    ),\n",
    "    legend=Legend(\n",
    "        x=1.00,\n",
    "        y=1.02,\n",
    "        traceorder='normal',\n",
    "        font=Font(\n",
    "            family='\"Open sans\", verdana, arial, sans-serif',\n",
    "            size=12,\n",
    "            color='#444'\n",
    "        ),\n",
    "        bgcolor='rgba(255, 255, 255, 0.5)',\n",
    "        bordercolor='#444',\n",
    "        borderwidth=0,\n",
    "        xanchor='left',\n",
    "        yanchor='auto'\n",
    "    )\n",
    ")"
   ]
  },
  {
   "cell_type": "markdown",
   "metadata": {},
   "source": [
    "## Graph the temperature data¶"
   ]
  },
  {
   "cell_type": "code",
   "execution_count": 7,
   "metadata": {
    "collapsed": false
   },
   "outputs": [
    {
     "data": {
      "text/html": [
       "<iframe id=\"igraph\" scrolling=\"no\" style=\"border:none;\" seamless=\"seamless\" src=\"https://plot.ly/~dyfrigmon/10.embed\" height=\"566px\" width=\"803px\"></iframe>"
      ],
      "text/plain": [
       "<plotly.tools.PlotlyDisplay object>"
      ]
     },
     "execution_count": 7,
     "metadata": {},
     "output_type": "execute_result"
    }
   ],
   "source": [
    "cur_time = datetime.datetime.now() # current date and time\n",
    "data=[]\n",
    "temp_types = ['C','F']\n",
    "for city in temps.keys():\n",
    "    for i in range(len(temp_types)):\n",
    "        data.append( Scatter( x=[cur_time], y=[temps[city][i]], \\\n",
    "                             line=Line(dash='dot') if i==0 else Line(),\n",
    "                             mode='lines+markers', \\\n",
    "                             name='{0} ({1})'.format(city,temp_types[i]) ) )\n",
    "\n",
    "data = Data( data )\n",
    "fig = Figure(data=data, layout=layout)\n",
    "#py.iplot(fig, filename='Swansea-New-York-Weather')\n",
    "plot_url=py.plot(fig, filename='Swansea-New-York-Weather',fileopt='extend',auto_open=False)\n",
    "#print plot_url    "
   ]
  }
 ],
 "metadata": {
  "kernelspec": {
   "display_name": "Python 2",
   "language": "python",
   "name": "python2"
  },
  "language_info": {
   "codemirror_mode": {
    "name": "ipython",
    "version": 2
   },
   "file_extension": ".py",
   "mimetype": "text/x-python",
   "name": "python",
   "nbconvert_exporter": "python",
   "pygments_lexer": "ipython2",
   "version": "2.7.11+"
  }
 },
 "nbformat": 4,
 "nbformat_minor": 0
}
